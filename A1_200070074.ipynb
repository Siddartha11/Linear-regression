{
  "cells": [
    {
      "cell_type": "markdown",
      "metadata": {
        "id": "qSXttsssvczE"
      },
      "source": []
    },
    {
      "cell_type": "markdown",
      "metadata": {
        "id": "mVAG7mJJD5xv"
      },
      "source": [
        "1) We want to generate a data matrix with m+1 rows and n coloumns, the first row in the matrix are all ones so that we can directly multiply the w vector with x matrix."
      ]
    },
    {
      "cell_type": "code",
      "execution_count": null,
      "metadata": {
        "id": "lIBK4EnPh2Nf"
      },
      "outputs": [],
      "source": [
        "import numpy as np                                     #Used for all mathematical operations\n",
        "import matplotlib.pyplot as plt                        #Used for plotting\n",
        "from timeit import default_timer as timer\n",
        "def generate_x(m,n) :                                  # n= no. of features and m = number of samples\n",
        "  x=np.random.normal(size=(m, n))                     #we generate random samples from a Gaussian distribution.\n",
        "  x=np.c_[ np.ones(m), x]                              #we append ones at starting so that our matrix multiplication with w will be easy \n",
        "  return x"
      ]
    },
    {
      "cell_type": "code",
      "execution_count": null,
      "metadata": {
        "colab": {
          "base_uri": "https://localhost:8080/"
        },
        "id": "C6R1x7GaK6jK",
        "outputId": "29e3a2c0-fc8a-45c8-e2bb-f19472422603"
      },
      "outputs": [
        {
          "output_type": "stream",
          "name": "stdout",
          "text": [
            "[[ 1.          0.99607742  1.27417199  0.85812445]\n",
            " [ 1.         -0.50286035  0.37930201 -0.09145562]\n",
            " [ 1.         -1.06961353  0.60700547  0.03818364]\n",
            " [ 1.          0.94182459 -0.57412126 -0.10850956]\n",
            " [ 1.          1.04029179  1.25041832  0.03710567]\n",
            " [ 1.         -2.0900544   1.55414969 -0.88700319]\n",
            " [ 1.         -1.24487168 -0.58985847  1.4447857 ]\n",
            " [ 1.          0.1528274   0.48327913 -1.23552734]]\n"
          ]
        }
      ],
      "source": [
        "#unit tesing\n",
        "print(generate_x(8,3))\n"
      ]
    },
    {
      "cell_type": "markdown",
      "metadata": {
        "id": "dNDcH1AqXqt2"
      },
      "source": [
        "2) Here we generate dependent variable column t from the data matrix X, w vector,$w_{0}$, and noise varainace(e). we generate by using this formula  t=x*w+e"
      ]
    },
    {
      "cell_type": "code",
      "execution_count": null,
      "metadata": {
        "id": "r8LTnXyKjsMV"
      },
      "outputs": [],
      "source": [
        "def generate_t(x,w,w_0,e):\n",
        "  w=np.insert(w, 0, w_0, axis=0)                   #we are inserting the w_0 at the start of the coloumn to make multiplication easy with x\n",
        "  t=np.matmul(x,w)+e                               # Here we use matmul function to  multiply both the matrices y=x*w\n",
        "  return t"
      ]
    },
    {
      "cell_type": "code",
      "execution_count": null,
      "metadata": {
        "colab": {
          "base_uri": "https://localhost:8080/"
        },
        "id": "XarR__jgTZQI",
        "outputId": "9b25bdd8-7ecb-450b-8444-f53f7a451a19"
      },
      "outputs": [
        {
          "output_type": "stream",
          "name": "stdout",
          "text": [
            "[[2.68540065]\n",
            " [1.65102356]\n",
            " [2.77144134]\n",
            " [3.15785164]\n",
            " [0.25184188]\n",
            " [0.24340969]\n",
            " [4.02532816]]\n"
          ]
        }
      ],
      "source": [
        " #unit testing \n",
        "x=generate_x(7,4)\n",
        "k=1\n",
        "e=k*np.random.normal(0,1,size=(x.shape[0],1))\n",
        "w=np.random.normal(size=(x.shape[1]-1,1))\n",
        "t=generate_t(x,w,2,e)\n",
        "print(t)"
      ]
    },
    {
      "cell_type": "markdown",
      "metadata": {
        "id": "BFEHeX7nwIVY"
      },
      "source": [
        "3) Now we have to compute linear regression estimate by using this formula y=x*w, as it a estimate here we don't add any noise\n"
      ]
    },
    {
      "cell_type": "code",
      "execution_count": null,
      "metadata": {
        "id": "sUNn0S6izdmZ"
      },
      "outputs": [],
      "source": [
        "def estimated_y(x,w) :\n",
        "  y=np.matmul(x,w)                         #Here we use matmul function to  multiply both the matrices and then we add some noise to it i.e e\n",
        "  return y"
      ]
    },
    {
      "cell_type": "code",
      "execution_count": null,
      "metadata": {
        "colab": {
          "base_uri": "https://localhost:8080/"
        },
        "id": "jC7Ll4FayMeu",
        "outputId": "df5ce1bd-b084-43e3-a621-99ee8c52413c"
      },
      "outputs": [
        {
          "output_type": "stream",
          "name": "stdout",
          "text": [
            "[[ 2.68487367]\n",
            " [ 3.93469654]\n",
            " [ 4.12400388]\n",
            " [-2.77044177]\n",
            " [ 1.87424991]\n",
            " [ 1.74051375]\n",
            " [ 0.88701809]]\n"
          ]
        }
      ],
      "source": [
        "#unit testing\n",
        "x=generate_x(7,4)\n",
        "w=np.random.normal(size=(x.shape[1],1))\n",
        "print(estimated_y(x,w))"
      ]
    },
    {
      "cell_type": "markdown",
      "metadata": {
        "id": "_QFwAC2ayw67"
      },
      "source": [
        "4) We compute mean sqaure error of the two vectors y and t by using this formula $\\Sigma (t-y)^{2}$/N ,\n",
        "Here N is total number of samples \n"
      ]
    },
    {
      "cell_type": "code",
      "execution_count": null,
      "metadata": {
        "id": "yZjh9xe7zwcq"
      },
      "outputs": [],
      "source": [
        "def mse_cal(y,t) :\n",
        "  dif=t-y                           # Here we are calculating the difference between the each element of arrays y and t \n",
        "  sqr=np.square(dif)                # we square the difference between them by using the np.square function\n",
        "  mse=np.sum(sqr)/t.shape[0]        # Here we are adding the all the squared terms by using np.sum and then dividing the sum with total number of elements which is calculated from the t.shape\n",
        "  return mse"
      ]
    },
    {
      "cell_type": "code",
      "execution_count": null,
      "metadata": {
        "colab": {
          "base_uri": "https://localhost:8080/"
        },
        "id": "FYhINgOZ1sJZ",
        "outputId": "513496da-619c-4b97-fdef-22286603486e"
      },
      "outputs": [
        {
          "output_type": "stream",
          "name": "stdout",
          "text": [
            "1.0\n"
          ]
        }
      ],
      "source": [
        "#unit testing\n",
        "y=np.ones((4,1))\n",
        "t=np.zeros((4,1))\n",
        "print(mse_cal(y,t))"
      ]
    },
    {
      "cell_type": "markdown",
      "metadata": {
        "id": "VE6qrJFq2NVQ"
      },
      "source": [
        "5) In this function we are going to estimate weights of linear regression using pseudo-inverse, assuming L2 regularisation. The formula for estimating $w_{ml}$ is  $w_{ml}=(\\lambda I+x_{T}x)^{-1}x^{T}t$\n"
      ]
    },
    {
      "cell_type": "code",
      "execution_count": null,
      "metadata": {
        "id": "eq0TRg111idy"
      },
      "outputs": [],
      "source": [
        "def pseudo_inverse(x,t,l):\n",
        "  x_t=x.transpose()                  # we are using .transpose() function to calculate the transpose of the matrix x to get x_t\n",
        "  I=np.identity(x.shape[1])          # we created a identity matrix of dimensions n*n where n=number of features, to get I\n",
        "  pim=l*I+np.matmul(x_t,x)           # first we multiply the x_t with with x  using matmul and then add the result to the l*I where l is l_2 regularisation term to get lI+x_t*x\n",
        "  pim=np.linalg.inv(pim)             #now we took the inverse of the above matrix using np.linalg.inv a in-built function of numpy to get (lI+x_t*x)^-1\n",
        "  pim=np.matmul(pim,x_t)             # Here we multiply the above inverse matrix with the x_t to get ((lI+x_t*x)^-1)*x_t\n",
        "  w_ml=np.matmul(pim,t)              # we calculated the w_maximum likelihood here by multiplying with t to get  ((lI+x_t*x)^-1)*x_t*t\n",
        "  y=estimated_y(x,w_ml)              #calculated the y value using the new w_ml and x \n",
        "  mse=mse_cal(y,t)                   #calculated the mean the square error between the dependent matrix t and the calculated y from the above \n",
        "  return [w_ml,y,mse] "
      ]
    },
    {
      "cell_type": "code",
      "execution_count": null,
      "metadata": {
        "colab": {
          "base_uri": "https://localhost:8080/"
        },
        "id": "MUCGtNiXKY1I",
        "outputId": "c74b2b23-e656-40a6-f7c6-445c9ff8de3e"
      },
      "outputs": [
        {
          "output_type": "stream",
          "name": "stdout",
          "text": [
            "[array([[ 0.84027292],\n",
            "       [-4.28774673],\n",
            "       [-0.16721219],\n",
            "       [-1.00981095],\n",
            "       [ 0.98787801]]), array([[ 5.56070905],\n",
            "       [-2.05408465],\n",
            "       [ 1.60400394],\n",
            "       [-1.04530393],\n",
            "       [-0.30886178],\n",
            "       [-2.29568403],\n",
            "       [ 3.25005943],\n",
            "       [ 3.30087071],\n",
            "       [ 5.67193025],\n",
            "       [ 1.22237891]]), 0.5436592570626461]\n"
          ]
        }
      ],
      "source": [
        "# unit_testing\n",
        "x=generate_x(10,4)\n",
        "k=1\n",
        "e=k*np.random.normal(0,1,size=(x.shape[0],1))\n",
        "w=np.random.normal(size=(x.shape[1]-1,1))\n",
        "w_0=2\n",
        "t=generate_t(x,w,w_0,e)\n",
        "l=0.00\n",
        "print(pseudo_inverse(x,t,l))"
      ]
    },
    {
      "cell_type": "markdown",
      "metadata": {
        "id": "FAt27wKBjCv0"
      },
      "source": [
        "6) Here we are going to calculate the $\\nabla mse$. The formula to calculate the partial derivative w.r.t $w_{i}$ is \n",
        " $ \\frac{\\partial mse}{\\partial w_{i}} =\\frac{1}{N} \\Sigma 2* (x[i:]*w-t[i])*x[i,j] $\n",
        "\n",
        "$\\nabla mse=\\frac{1}{N}[\\frac{\\partial mse}{\\partial w_{1}},\\frac{\\partial mse}{\\partial w_{2}}........\\frac{\\partial mse}{\\partial w_{n}}] $"
      ]
    },
    {
      "cell_type": "code",
      "execution_count": null,
      "metadata": {
        "id": "zYjhYrlPP1jG"
      },
      "outputs": [],
      "source": [
        "def grad_mse(x,t,w):\n",
        "  grad=[]                                                                       # Here we created a empty array/list to add each partial derivative to it after every loop\n",
        "  for j in range(w.shape[0]):                                                   # For loop of length eqaual to w vector so that it will rum through all the w's\n",
        "    partial_dev=0                                                               #intialising the partial derivative after every loop to zero\n",
        "    for i in range(x.shape[0]):                                                 # another for loop is to go through all the elements of x[i]\n",
        "      partial_dev=2*(np.matmul(x[i,:],w)-t[i])*x[i,j]+partial_dev               #this is implementation of the above formula \n",
        "    grad.append(partial_dev)                                                    #appending all the partial derivatives to it\n",
        "  grad=np.array(grad)                                                           #converting it back into numpy array so that we can do mathematical operations\n",
        "  return grad/x.shape[0]                                                        #dividing by number of samples to get gradient of mean square error\n",
        "\n",
        "  "
      ]
    },
    {
      "cell_type": "code",
      "execution_count": 1,
      "metadata": {
        "colab": {
          "base_uri": "https://localhost:8080/",
          "height": 235
        },
        "id": "u7jLSEqGDpAs",
        "outputId": "14e0ecf0-dff0-4646-f812-7175a22b6509"
      },
      "outputs": [
        {
          "output_type": "error",
          "ename": "NameError",
          "evalue": "ignored",
          "traceback": [
            "\u001b[0;31m---------------------------------------------------------------------------\u001b[0m",
            "\u001b[0;31mNameError\u001b[0m                                 Traceback (most recent call last)",
            "\u001b[0;32m<ipython-input-1-f8f2353e5b08>\u001b[0m in \u001b[0;36m<module>\u001b[0;34m\u001b[0m\n\u001b[1;32m      1\u001b[0m \u001b[0;31m#unit testing\u001b[0m\u001b[0;34m\u001b[0m\u001b[0;34m\u001b[0m\u001b[0;34m\u001b[0m\u001b[0m\n\u001b[0;32m----> 2\u001b[0;31m \u001b[0mx\u001b[0m\u001b[0;34m=\u001b[0m\u001b[0mgenerate_x\u001b[0m\u001b[0;34m(\u001b[0m\u001b[0;36m700\u001b[0m\u001b[0;34m,\u001b[0m\u001b[0;36m4\u001b[0m\u001b[0;34m)\u001b[0m\u001b[0;34m\u001b[0m\u001b[0;34m\u001b[0m\u001b[0m\n\u001b[0m\u001b[1;32m      3\u001b[0m \u001b[0mk\u001b[0m\u001b[0;34m=\u001b[0m\u001b[0;36m1\u001b[0m\u001b[0;34m\u001b[0m\u001b[0;34m\u001b[0m\u001b[0m\n\u001b[1;32m      4\u001b[0m \u001b[0me\u001b[0m\u001b[0;34m=\u001b[0m\u001b[0mk\u001b[0m\u001b[0;34m*\u001b[0m\u001b[0mnp\u001b[0m\u001b[0;34m.\u001b[0m\u001b[0mrandom\u001b[0m\u001b[0;34m.\u001b[0m\u001b[0mnormal\u001b[0m\u001b[0;34m(\u001b[0m\u001b[0;36m0\u001b[0m\u001b[0;34m,\u001b[0m\u001b[0;36m1\u001b[0m\u001b[0;34m,\u001b[0m\u001b[0msize\u001b[0m\u001b[0;34m=\u001b[0m\u001b[0;34m(\u001b[0m\u001b[0mx\u001b[0m\u001b[0;34m.\u001b[0m\u001b[0mshape\u001b[0m\u001b[0;34m[\u001b[0m\u001b[0;36m0\u001b[0m\u001b[0;34m]\u001b[0m\u001b[0;34m,\u001b[0m\u001b[0;36m1\u001b[0m\u001b[0;34m)\u001b[0m\u001b[0;34m)\u001b[0m\u001b[0;34m\u001b[0m\u001b[0;34m\u001b[0m\u001b[0m\n\u001b[1;32m      5\u001b[0m \u001b[0mw\u001b[0m\u001b[0;34m=\u001b[0m\u001b[0mnp\u001b[0m\u001b[0;34m.\u001b[0m\u001b[0mrandom\u001b[0m\u001b[0;34m.\u001b[0m\u001b[0mnormal\u001b[0m\u001b[0;34m(\u001b[0m\u001b[0msize\u001b[0m\u001b[0;34m=\u001b[0m\u001b[0;34m(\u001b[0m\u001b[0mx\u001b[0m\u001b[0;34m.\u001b[0m\u001b[0mshape\u001b[0m\u001b[0;34m[\u001b[0m\u001b[0;36m1\u001b[0m\u001b[0;34m]\u001b[0m\u001b[0;34m-\u001b[0m\u001b[0;36m1\u001b[0m\u001b[0;34m,\u001b[0m\u001b[0;36m1\u001b[0m\u001b[0;34m)\u001b[0m\u001b[0;34m)\u001b[0m\u001b[0;34m\u001b[0m\u001b[0;34m\u001b[0m\u001b[0m\n",
            "\u001b[0;31mNameError\u001b[0m: name 'generate_x' is not defined"
          ]
        }
      ],
      "source": [
        "#unit testing\n",
        "x=generate_x(700,4)\n",
        "k=1\n",
        "e=k*np.random.normal(0,1,size=(x.shape[0],1))\n",
        "w=np.random.normal(size=(x.shape[1]-1,1))\n",
        "t=generate_t(x,w,2,e)\n",
        "w=np.insert(w, 0,2, axis=0)\n",
        "l=0\n",
        "print(grad_mse(x,t,w))\n",
        "w_ml=pseudo_inverse(x,t,l)[0]\n",
        "y=estimated_y(x,w_ml)\n",
        "print(mse_cal(y,t))\n",
        "print(grad_mse(x,t,w_ml))"
      ]
    },
    {
      "cell_type": "markdown",
      "metadata": {
        "id": "sMUelnKrXsB_"
      },
      "source": [
        "7)Here we are calculating the $L_{2}$ norm of the vector w by using $L_{2}$=$w_{1}^2+w_{2}^2+....+w_{n}^2$"
      ]
    },
    {
      "cell_type": "code",
      "execution_count": null,
      "metadata": {
        "id": "wTBl5p6ZIigU"
      },
      "outputs": [],
      "source": [
        "def l2_norm(w):\n",
        "  w=np.square(w)                    # squaring all the elements using numpy.square\n",
        "  s=np.sum(w)-w[0]                  # We add all the elements of array first at last we substract w_0 becuase we excluding the bais\n",
        "  return s\n"
      ]
    },
    {
      "cell_type": "code",
      "execution_count": null,
      "metadata": {
        "colab": {
          "base_uri": "https://localhost:8080/"
        },
        "id": "rKCu023oJONP",
        "outputId": "a93c77a6-6337-4110-84e4-caf7bb301649"
      },
      "outputs": [
        {
          "output_type": "stream",
          "name": "stdout",
          "text": [
            "16\n"
          ]
        }
      ],
      "source": [
        "#unit testing\n",
        "print(l2_norm([3,4]))"
      ]
    },
    {
      "cell_type": "markdown",
      "metadata": {
        "id": "I9BDYh5WYOVw"
      },
      "source": [
        "8) Here we are calculating the gradient of $L_{2}$ norm"
      ]
    },
    {
      "cell_type": "code",
      "execution_count": null,
      "metadata": {
        "id": "SW_PCXg1Jdwu"
      },
      "outputs": [],
      "source": [
        "def l2_norm_grad(w):\n",
        "  w_1=2*w                  # we can directly take the gradient of l_2 norm as 2w\n",
        "  w_1[0]=0                 # making w_0=0  because we generally donot include bias while calculating norms\n",
        "  return w_1"
      ]
    },
    {
      "cell_type": "code",
      "execution_count": null,
      "metadata": {
        "colab": {
          "base_uri": "https://localhost:8080/"
        },
        "id": "Pws25EmFTwN-",
        "outputId": "3fb6e304-f542-499e-c331-33071577e3d4"
      },
      "outputs": [
        {
          "output_type": "stream",
          "name": "stdout",
          "text": [
            "[0 8]\n"
          ]
        }
      ],
      "source": [
        "#unit testing\n",
        "print(l2_norm_grad(np.array([3,4])))"
      ]
    },
    {
      "cell_type": "markdown",
      "metadata": {
        "id": "w68oeiFVYuB0"
      },
      "source": [
        "9) Here we are calculating the $L_{1}$ norm of the vector w by using $L_{1}$=$|w_{1}|+|w_{2}|+....+|w_{n}|$"
      ]
    },
    {
      "cell_type": "code",
      "execution_count": null,
      "metadata": {
        "id": "z3LIBgucUFGe"
      },
      "outputs": [],
      "source": [
        "def l1_norm(w):\n",
        "  w=np.absolute(w)             # Taking absolute for each term in the given array w \n",
        "  return np.sum(w)-w[0]        #substracting the w_0 because we generally donot include bias while calculating norms"
      ]
    },
    {
      "cell_type": "code",
      "execution_count": null,
      "metadata": {
        "colab": {
          "base_uri": "https://localhost:8080/"
        },
        "id": "JN_sEaUWZ7KG",
        "outputId": "e98487fb-d0e9-472f-91ee-48b9c4c01e44"
      },
      "outputs": [
        {
          "output_type": "stream",
          "name": "stdout",
          "text": [
            "8\n"
          ]
        }
      ],
      "source": [
        "#unit testing\n",
        "print(l1_norm([-2,-3,5]))"
      ]
    },
    {
      "cell_type": "markdown",
      "metadata": {
        "id": "yLlamOsCZKP4"
      },
      "source": [
        "10) Here we are calculating the $L_{1}$ norm by using this formula ={1,w>0}={0,w=0}={-1,w<0}"
      ]
    },
    {
      "cell_type": "code",
      "execution_count": null,
      "metadata": {
        "id": "a7DrTskmrLH5"
      },
      "outputs": [],
      "source": [
        "def l1_norm_grad(w):\n",
        "  w_l1=np.zeros((w.shape[0],1))\n",
        "  for i in range(1,w_l1.shape[0]) : #we are using the loop to iterate through the w\n",
        "    if w[i]<0 :    \n",
        "      w_l1[i]=-1\n",
        "    elif w[i]>0 :    #as discussed above if w>0 then 1 and w<0 then -1 and w=0 then 0\n",
        "      w_l1[i]=1\n",
        "    else :\n",
        "      w_l1[i]=0\n",
        "  return  w_l1"
      ]
    },
    {
      "cell_type": "code",
      "execution_count": null,
      "metadata": {
        "colab": {
          "base_uri": "https://localhost:8080/"
        },
        "id": "4W7Kguz1-5Zc",
        "outputId": "a67b0321-cfe2-420b-a524-1337bdbf31ea"
      },
      "outputs": [
        {
          "output_type": "stream",
          "name": "stdout",
          "text": [
            "[[ 0.]\n",
            " [-1.]\n",
            " [ 1.]\n",
            " [ 1.]]\n"
          ]
        }
      ],
      "source": [
        "#unit tesing\n",
        "print(l1_norm_grad(w=np.random.normal(size=(4,1))))"
      ]
    },
    {
      "cell_type": "markdown",
      "metadata": {
        "id": "a7QRxNJlXO4c"
      },
      "source": [
        "11) We have to write a function for a single update of weights of linear regression using gradient descent $w=w-∇L$ where $L=mse+L_{1}+L_{2}$"
      ]
    },
    {
      "cell_type": "code",
      "execution_count": null,
      "metadata": {
        "id": "eJekR1LABd6s"
      },
      "outputs": [],
      "source": [
        "\n",
        "def grad_descent_one(x,t,w,n,l_1,l_2):\n",
        "  grad_w=  grad_mse(x,t,w) + l_2*l2_norm_grad(w)+l_1*l1_norm_grad(w)    #we are calculating the gradient w.r.t w of the loss function from the above defined functions\n",
        "  w_new=w-n*grad_w                                                                    #updating the w from the formula of gradient descent\n",
        "  y= estimated_y(x,w_new)                                                             #calculating or estimating the y using the above w\n",
        "  mse=mse_cal(y,t)                                                                    #we are calculating the mse of the t and  y that estimated using above \n",
        "  return [w_new,mse]"
      ]
    },
    {
      "cell_type": "code",
      "execution_count": null,
      "metadata": {
        "colab": {
          "base_uri": "https://localhost:8080/"
        },
        "id": "-YtL3tOpLX17",
        "outputId": "83510604-5c91-4ca1-c079-b8f6337892c4"
      },
      "outputs": [
        {
          "output_type": "stream",
          "name": "stdout",
          "text": [
            "(300, 6)\n",
            "[[ 1.97549919]\n",
            " [-0.07076504]\n",
            " [ 0.92754045]\n",
            " [-1.46790157]\n",
            " [ 0.9631567 ]\n",
            " [-1.42441527]]\n"
          ]
        }
      ],
      "source": [
        "#unit testing\n",
        "x=generate_x(300,5)\n",
        "w=np.random.normal(size=(x.shape[1]-1,1))\n",
        "k=1\n",
        "e=k*np.random.normal(size=(x.shape[0],1))\n",
        "print(x.shape)\n",
        "t=generate_t(x,w,2,e)\n",
        "w=np.insert(w, 0, 2, axis=0)\n",
        "a=grad_descent_one(x,t,w,0.1,0,0)[0]\n",
        "print(a)"
      ]
    },
    {
      "cell_type": "markdown",
      "metadata": {
        "id": "GMEPVr8Navem"
      },
      "source": [
        "12)Here we have to do linear gradient multiple times upto max_iter has been reached, or the normalized RMSE does not change by more than\n",
        "min_change_NRMSE. \n",
        "\n",
        "\n"
      ]
    },
    {
      "cell_type": "code",
      "execution_count": null,
      "metadata": {
        "id": "97SsMQKZV0x3"
      },
      "outputs": [],
      "source": [
        "def grad_descent(x,t,eta,max_iter, min_change_NRMSE,l_2=0,l_1=0):\n",
        "  w_in=np.zeros((x.shape[1],1))                                        #we can take any matrix for w for simplicity we have taken all as zeroes\n",
        "  std_t=np.std(t)                                                      #we are calculating the std deviation of vector t\n",
        "  nrmse=0                                                              #we are just initailising the nrmse variable\n",
        "  for _ in range(max_iter):                                            #loop for gradient descent maximum value is max_iter\n",
        "    w_in,mse=grad_descent_one(x,t,w_in,eta,l_1,l_2)                    # we are taking values from the grad_descent_one\n",
        "    nrmse_nxt=np.sqrt(mse)/std_t                                       #calculating the nrmse for the every y,t value\n",
        "    if np.absolute(nrmse-nrmse_nxt)<min_change_NRMSE :                 #checking whether the change in nrmse is less tham min_change or not\n",
        "      return [w,nrmse_nxt]                                             #if yes the return w ,nrmse_nxt\n",
        "    else :\n",
        "      nrmse=nrmse_nxt      \n",
        "  return w,nrmse_nxt                                            #if not then we update the nrmse_nxt to nrmse which will used for next loop\n",
        "    \n"
      ]
    },
    {
      "cell_type": "code",
      "execution_count": null,
      "metadata": {
        "colab": {
          "base_uri": "https://localhost:8080/"
        },
        "id": "Oa9-iNRLtSN-",
        "outputId": "95142838-8e32-4180-86d3-c56d4f87b296"
      },
      "outputs": [
        {
          "output_type": "stream",
          "name": "stdout",
          "text": [
            "(300, 6)\n",
            "[array([[-1.2587174 ],\n",
            "       [ 0.08404952],\n",
            "       [-0.32668886],\n",
            "       [ 0.70668212],\n",
            "       [ 0.73665109]]), 0.8852243080637878]\n"
          ]
        }
      ],
      "source": [
        "#unittesting\n",
        "x=generate_x(300,5)\n",
        "w=np.random.normal(size=(x.shape[1]-1,1))\n",
        "k=1\n",
        "e=k*np.random.normal(size=(x.shape[0],1))\n",
        "print(x.shape)\n",
        "t=generate_t(x,w,2,e)\n",
        "n=0.001\n",
        "print(grad_descent(x,t,n,1000,0.001))"
      ]
    },
    {
      "cell_type": "markdown",
      "metadata": {
        "id": "8a6CX9VJdhqb"
      },
      "source": [
        "13a)We have to plot the boxplots for training and validation NRMSE obtained using pseudo inverse with number of training samples \n",
        "\n",
        "\n"
      ]
    },
    {
      "cell_type": "code",
      "execution_count": null,
      "metadata": {
        "colab": {
          "base_uri": "https://localhost:8080/",
          "height": 350
        },
        "id": "IXrHeMmswiYW",
        "outputId": "be29f811-4fc5-4417-9cfd-a8c0d0d9cb68"
      },
      "outputs": [
        {
          "output_type": "display_data",
          "data": {
            "text/plain": [
              "<Figure size 1080x360 with 2 Axes>"
            ],
            "image/png": "[encoded data removed]"
          },
          "metadata": {
            "needs_background": "light"
          }
        }
      ],
      "source": [
        "a=[100,300,500,2000,5000,10000]                                            #These are the values which we are going to provide for the given variable \n",
        "w_0=2                                                                      #These will be the constants those will be same for all the samples\n",
        "l=0.4\n",
        "train_1=[]                                                                  #two empty arrays used for collecting the data to plot the graphs\n",
        "valid_1=[]\n",
        "for i in a:\n",
        "  train_2=np.array([])\n",
        "  valid_2=np.array([])                                                      #these are also empty arrays for collecting data at every number of samples\n",
        "  for j in range(20):                                                        \n",
        "    np.random.seed(j)                                                       #we use 20 random seeds for generating the 20 different types of data\n",
        "    x=generate_x(i,7)                                                       #creating the matrix of i rows and 7 coloumns\n",
        "    k=1\n",
        "    e=k*np.random.normal(0,1,size=(x.shape[0],1))\n",
        "    w=np.random.normal(size=(x.shape[1]-1,1))\n",
        "    t=generate_t(x,w,w_0,e)\n",
        "    w=np.insert(w, 0, w_0, axis=0)\n",
        "    x_train=x[:int(3*i/4)]                                                  #we are divding the data matrix in the ratio of 3:1,so that 3/4th part for testing and 1/4th for validation \n",
        "    t_train=t[:int(3*i/4)]\n",
        "    std_t_train=t_train.std()\n",
        "    x_valid=x[int(3*i/4):]\n",
        "    t_valid=t[int(3*i/4):]\n",
        "    std_t_valid=t_valid.std()\n",
        "    w_ml=pseudo_inverse(x_train,t_train,l)[0]                               #calculating the w_ml for the validation set\n",
        "    mse_train=pseudo_inverse(x_train,t_train,l)[2]\n",
        "    nrmse_train=np.sqrt(mse_train)/std_t_train\n",
        "    train_2=np.append(train_2,nrmse_train)\n",
        "    y_valid=estimated_y(x_valid,w_ml)                                       #By using above w_ml we will calculate the y from which we calculate the nrmse \n",
        "    mse_valid=mse_cal(y_valid,t_valid)\n",
        "    nrmse_valid=np.sqrt(mse_valid)/std_t_valid\n",
        "    valid_2=np.append(valid_2,nrmse_valid)\n",
        "  train_1.append(train_2)\n",
        "  valid_1.append(valid_2)\n",
        "plt.figure(figsize=(15,5))\n",
        "plt.subplot(1,3,2)\n",
        "plt.title('Training_nrmse')                                                #we are plotting training nrmse with different number of samples \n",
        "plt.boxplot(train_1,showfliers=False)\n",
        "plt.xlabel([100,300,500,2000,5000,10000])\n",
        "plt.subplot(1,3,3)\n",
        "plt.title('Validation_nrmse')                                              #we are plotting validation nrmse with different number of samples \n",
        "plt.boxplot(valid_1,showfliers=False)\n",
        "plt.xlabel([100,300,500,2000,5000,10000])\n",
        "plt.show()"
      ]
    },
    {
      "cell_type": "markdown",
      "metadata": {
        "id": "6zaeEAag8nyh"
      },
      "source": [
        "Observations : As the data is completly random ,the nrmse is not following a pattern."
      ]
    },
    {
      "cell_type": "markdown",
      "metadata": {
        "id": "OAHGS8aT8CWF"
      },
      "source": [
        "13b)We have to plot the boxplots for training and validation NRMSE obtained using pseudo inverse with number of variables."
      ]
    },
    {
      "cell_type": "code",
      "execution_count": null,
      "metadata": {
        "colab": {
          "base_uri": "https://localhost:8080/",
          "height": 350
        },
        "id": "Hmrr-jyAyQ3R",
        "outputId": "b596295c-bac7-461a-ba6c-d4424231dbda"
      },
      "outputs": [
        {
          "output_type": "display_data",
          "data": {
            "text/plain": [
              "<Figure size 1080x360 with 2 Axes>"
            ],
            "image/png": "[encoded data removed]"
          },
          "metadata": {
            "needs_background": "light"
          }
        }
      ],
      "source": [
        "a=[3,5,7,10,14,20]                  #Its is same as above the question just we have to change the varaibles\n",
        "w_0=2\n",
        "l=0.1\n",
        "train_1=[]\n",
        "valid_1=[]\n",
        "for i in a:\n",
        "  train_2=np.array([])\n",
        "  valid_2=np.array([])\n",
        "  for j in range(20):\n",
        "    np.random.seed(j)\n",
        "    x=generate_x(2000,i)                                                           #changing variable here\n",
        "    k=1\n",
        "    e=k*np.random.normal(0,1,size=(x.shape[0],1))\n",
        "    w=np.random.normal(size=(x.shape[1]-1,1))\n",
        "    t=generate_t(x,w,w_0,e)\n",
        "    w=np.insert(w, 0, w_0, axis=0)\n",
        "    x_train=x[:int(3*2000/4)]\n",
        "    t_train=t[:int(3*2000/4)]\n",
        "    std_t_train=t_train.std()\n",
        "    x_valid=x[int(3*2000/4):]\n",
        "    t_valid=t[int(3*2000/4):]\n",
        "    std_t_valid=t_valid.std()\n",
        "    w_ml=pseudo_inverse(x_train,t_train,l)[0]\n",
        "    mse_train=pseudo_inverse(x_train,t_train,l)[2]\n",
        "    nrmse_train=np.sqrt(mse_train)/std_t_train\n",
        "    train_2=np.append(train_2,nrmse_train)\n",
        "    y_valid=estimated_y(x_valid,w_ml)\n",
        "    mse_valid=mse_cal(y_valid,t_valid)\n",
        "    nrmse_valid=np.sqrt(mse_valid)/std_t_valid\n",
        "    valid_2=np.append(valid_2,nrmse_valid)\n",
        "  train_1.append(train_2)\n",
        "  valid_1.append(valid_2)\n",
        "plt.figure(figsize=(15,5))\n",
        "plt.subplot(1,3,2)\n",
        "plt.title('Training_nrmse')\n",
        "plt.boxplot(train_1,showfliers=False)\n",
        "plt.xlabel([2,4,6,10,14,20])\n",
        "plt.subplot(1,3,3)\n",
        "plt.title('Validation_nrmse')\n",
        "plt.boxplot(valid_1,showfliers=False)\n",
        "plt.xlabel([2,4,6,10,14,20])\n",
        "plt.show()"
      ]
    },
    {
      "cell_type": "markdown",
      "metadata": {
        "id": "ns8srBQR9Cf7"
      },
      "source": [
        "observation : The median of nrmse is continously decreasing as we increase the number of features in both the graphas . So, according to my understanding I think by incorporting more features we can know more about the sytem. So less nrmse as we increase number of features"
      ]
    },
    {
      "cell_type": "markdown",
      "metadata": {
        "id": "84J8GLbIHOps"
      },
      "source": [
        "13c)We have to plot the boxplots for training and validation NRMSE obtained using pseudo inverse with noise varaiance."
      ]
    },
    {
      "cell_type": "code",
      "execution_count": null,
      "metadata": {
        "colab": {
          "base_uri": "https://localhost:8080/",
          "height": 350
        },
        "id": "NwJcy02w4Lin",
        "outputId": "c2b591ca-ca6e-4f71-f6a0-5fa1e5f28de0"
      },
      "outputs": [
        {
          "output_type": "display_data",
          "data": {
            "text/plain": [
              "<Figure size 1152x360 with 2 Axes>"
            ],
            "image/png": "[encoded data removed]"
          },
          "metadata": {
            "needs_background": "light"
          }
        }
      ],
      "source": [
        "a=[0.10, 0.31, 1.0,2.2,3.14, 9.87,20.56, 31.01, 97.41, 306.02]    #Its is same as above the question just we have to change the changing varaible from features to noise varaince k\n",
        "w_0=2\n",
        "l=0.1\n",
        "train_1=[]\n",
        "valid_1=[]\n",
        "for i in a:\n",
        "  train_2=np.array([])\n",
        "  valid_2=np.array([])\n",
        "  for j in range(20):\n",
        "    np.random.seed(j)\n",
        "    x=generate_x(2000,9)\n",
        "    k=i                                                                       #changing variable here\n",
        "    e=k*np.random.normal(0,1,size=(x.shape[0],1))\n",
        "    w=np.random.normal(size=(x.shape[1]-1,1))\n",
        "    t=generate_t(x,w,w_0,e)\n",
        "    w=np.insert(w, 0, w_0, axis=0)\n",
        "    x_train=x[:int(3*2000/4)]\n",
        "    t_train=t[:int(3*2000/4)]\n",
        "    std_t_train=t_train.std()\n",
        "    x_valid=x[int(3*2000/4):]\n",
        "    t_valid=t[int(3*2000/4):]\n",
        "    std_t_valid=t_valid.std()\n",
        "    w_ml=pseudo_inverse(x_train,t_train,l)[0]\n",
        "    mse_train=pseudo_inverse(x_train,t_train,l)[2]\n",
        "    nrmse_train=np.sqrt(mse_train)/std_t_train\n",
        "    train_2=np.append(train_2,nrmse_train)\n",
        "    y_valid=estimated_y(x_valid,w_ml)\n",
        "    mse_valid=mse_cal(y_valid,t_valid)\n",
        "    nrmse_valid=np.sqrt(mse_valid)/std_t_valid\n",
        "    valid_2=np.append(valid_2,nrmse_valid)\n",
        "  train_1.append(train_2)\n",
        "  valid_1.append(valid_2)\n",
        "plt.figure(figsize=(16,5))\n",
        "plt.subplot(1,3,2)\n",
        "plt.title('Training_nrmse')\n",
        "plt.boxplot(train_1,showfliers=False)\n",
        "plt.xlabel([0.10, 0.31, 1.0,2.2,3.14, 9.87,20.56, 31.01, 97.41, 306.02])\n",
        "plt.subplot(1,3,3)\n",
        "plt.title('Validation_nrmse')\n",
        "plt.boxplot(valid_1,showfliers=False)\n",
        "plt.xlabel([0.10, 0.31, 1.0,2.2,3.14, 9.87,20.56, 31.01, 97.41, 306.02])\n",
        "plt.show()"
      ]
    },
    {
      "cell_type": "markdown",
      "metadata": {
        "id": "Jtr5n2JbAkp1"
      },
      "source": [
        "Observation  : As the noise varaince is increasing intially nrmse got increased but after some value the nrmse got flatned "
      ]
    },
    {
      "cell_type": "markdown",
      "metadata": {
        "id": "0ZiH_k0FAmBB"
      },
      "source": [
        "13d)We have to plot the boxplots for training and validation NRMSE obtained using pseudo inverse with Bais w0."
      ]
    },
    {
      "cell_type": "code",
      "execution_count": null,
      "metadata": {
        "colab": {
          "base_uri": "https://localhost:8080/",
          "height": 350
        },
        "id": "XzrtGabX-Q_Q",
        "outputId": "90375217-ce9f-4bd3-d4c5-9224b0a5f75e"
      },
      "outputs": [
        {
          "output_type": "display_data",
          "data": {
            "text/plain": [
              "<Figure size 1080x360 with 2 Axes>"
            ],
            "image/png": "[encoded data removed]"
          },
          "metadata": {
            "needs_background": "light"
          }
        }
      ],
      "source": [
        "a=[0.10,2.2,3.14, 9.87,20.56, 31.01, 97.41, 306.02,2000,4000]    #Its is same as above the question just we have to change the varaibles from noise variance to w_0\n",
        "l=0.1\n",
        "train_1=[]\n",
        "valid_1=[]\n",
        "for i in a:\n",
        "  train_2=np.array([])\n",
        "  valid_2=np.array([])\n",
        "  for j in range(20):\n",
        "    np.random.seed(j)\n",
        "    x=generate_x(2000,9)\n",
        "    w_0=i                                                                  #changing variable here\n",
        "    k=1\n",
        "    e=k*np.random.normal(0,1,size=(x.shape[0],1))\n",
        "    w=np.random.normal(size=(x.shape[1]-1,1))\n",
        "    t=generate_t(x,w,w_0,e)\n",
        "    w=np.insert(w, 0, w_0, axis=0)\n",
        "    x_train=x[:int(3*2000/4)]\n",
        "    t_train=t[:int(3*2000/4)]\n",
        "    std_t_train=t_train.std()\n",
        "    x_valid=x[int(3*2000/4):]\n",
        "    t_valid=t[int(3*2000/4):]\n",
        "    std_t_valid=t_valid.std()\n",
        "    w_ml=pseudo_inverse(x_train,t_train,l)[0]\n",
        "    mse_train=pseudo_inverse(x_train,t_train,l)[2]\n",
        "    nrmse_train=np.sqrt(mse_train)/std_t_train\n",
        "    train_2=np.append(train_2,nrmse_train)\n",
        "    y_valid=estimated_y(x_valid,w_ml)\n",
        "    mse_valid=mse_cal(y_valid,t_valid)\n",
        "    nrmse_valid=np.sqrt(mse_valid)/std_t_valid\n",
        "    valid_2=np.append(valid_2,nrmse_valid)\n",
        "  train_1.append(train_2)\n",
        "  valid_1.append(valid_2)\n",
        "plt.figure(figsize=(15,5))\n",
        "plt.subplot(1,3,2)\n",
        "plt.title('Training_nrmse')\n",
        "plt.boxplot(train_1,showfliers=False)\n",
        "plt.xlabel([0.10,2.2,3.14, 9.87,20.56, 31.01, 97.41, 306.02,2000])\n",
        "plt.subplot(1,3,3)\n",
        "plt.title('Validation_nrmse')\n",
        "plt.boxplot(valid_1,showfliers=False)\n",
        "plt.xlabel([0.10,2.2,3.14, 9.87,20.56, 31.01, 97.41, 306.02,2000])\n",
        "plt.show()"
      ]
    },
    {
      "cell_type": "markdown",
      "metadata": {
        "id": "JxRdg5VfAx1P"
      },
      "source": [
        "Observation : The nrmse is almost constant, thee w_0 don,t have much effect on it"
      ]
    },
    {
      "cell_type": "markdown",
      "metadata": {
        "id": "1qxPO15VCJNN"
      },
      "source": [
        "13d)We have to plot the boxplots for training and validation NRMSE obtained using pseudo inverse with lamda 2 ."
      ]
    },
    {
      "cell_type": "code",
      "execution_count": null,
      "metadata": {
        "colab": {
          "base_uri": "https://localhost:8080/",
          "height": 350
        },
        "id": "kapLrpAxJw_u",
        "outputId": "fa8f45e9-5b12-4ece-e9b6-61ebb3e2a92b"
      },
      "outputs": [
        {
          "output_type": "display_data",
          "data": {
            "text/plain": [
              "<Figure size 1080x360 with 2 Axes>"
            ],
            "image/png": "[encoded data removed]"
          },
          "metadata": {
            "needs_background": "light"
          }
        }
      ],
      "source": [
        "a=[0.001,0.01,0.1,0.5,0.9,40,300,1096]           #Its is same as above the question just we have to change the varaibles\n",
        "train_1=[]\n",
        "valid_1=[]\n",
        "for i in a:\n",
        "  train_2=np.array([])\n",
        "  valid_2=np.array([])\n",
        "  for j in range(20):\n",
        "    np.random.seed(j)\n",
        "    x=generate_x(2000,9)\n",
        "    w_0=3\n",
        "    l=i                                                    #changing varaible\n",
        "    k=1\n",
        "    e=k*np.random.normal(0,1,size=(x.shape[0],1))\n",
        "    w=np.random.normal(size=(x.shape[1]-1,1))\n",
        "    t=generate_t(x,w,w_0,e)\n",
        "    w=np.insert(w, 0, w_0, axis=0)\n",
        "    x_train=x[:int(3*2000/4)]\n",
        "    t_train=t[:int(3*2000/4)]\n",
        "    std_t_train=t_train.std()\n",
        "    x_valid=x[int(3*2000/4):]\n",
        "    t_valid=t[int(3*2000/4):]\n",
        "    std_t_valid=t_valid.std()\n",
        "    w_ml=pseudo_inverse(x_train,t_train,l)[0]\n",
        "    mse_train=pseudo_inverse(x_train,t_train,l)[2]\n",
        "    nrmse_train=np.sqrt(mse_train)/std_t_train\n",
        "    train_2=np.append(train_2,nrmse_train)\n",
        "    y_valid=estimated_y(x_valid,w_ml)\n",
        "    mse_valid=mse_cal(y_valid,t_valid)\n",
        "    nrmse_valid=np.sqrt(mse_valid)/std_t_valid\n",
        "    valid_2=np.append(valid_2,nrmse_valid)\n",
        "  train_1.append(train_2)\n",
        "  valid_1.append(valid_2)\n",
        "plt.figure(figsize=(15,5))\n",
        "plt.subplot(1,3,2)\n",
        "plt.title('Training_nrmse')\n",
        "plt.boxplot(train_1,showfliers=False)\n",
        "plt.xlabel([0.001,0.01,0.1,0.5,0.9,40,300,1096])\n",
        "plt.subplot(1,3,3)\n",
        "plt.title('Validation_nrmse')\n",
        "plt.boxplot(valid_1,showfliers=False)\n",
        "plt.xlabel([0.001,0.01,0.1,0.5,0.9,40,300,1096])\n",
        "plt.show()"
      ]
    },
    {
      "cell_type": "markdown",
      "metadata": {
        "id": "SbIi6qQKCeDX"
      },
      "source": [
        "Observation: the nrmse is almost constant with the lamda2 in tha range of 0-1, it starts slightly increasing when we go for higher values of lambda 2 "
      ]
    },
    {
      "cell_type": "markdown",
      "source": [
        "13g)Training and validation NRMSE obtained using gradient descent with max_iter"
      ],
      "metadata": {
        "id": "QwfkaTbiNrJ4"
      }
    },
    {
      "cell_type": "code",
      "execution_count": null,
      "metadata": {
        "colab": {
          "base_uri": "https://localhost:8080/",
          "height": 350
        },
        "id": "0vdq62pCFhvh",
        "outputId": "93336acc-347f-413c-8e8c-1eeb4d1934d2"
      },
      "outputs": [
        {
          "output_type": "display_data",
          "data": {
            "text/plain": [
              "<Figure size 1080x360 with 2 Axes>"
            ],
            "image/png": "[encoded data removed]"
          },
          "metadata": {
            "needs_background": "light"
          }
        }
      ],
      "source": [
        "a=[300,500,1000,2000,5000,7000]                                            #These are the values which we are going to provide for the given variable \n",
        "w_0=2                                                                      #These will be the constants those will be same for all the samples\n",
        "l=0.4\n",
        "n=0.0001\n",
        "min_change=0.01\n",
        "train_1=[]                                                                  #two empty arrays used for collecting the data to plot the graphs\n",
        "valid_1=[]\n",
        "for i in a:\n",
        "  train_2=np.array([])\n",
        "  valid_2=np.array([])                                                      #these are also empty arrays for collecting data at every number of samples\n",
        "  for j in range(20):                                                        \n",
        "    np.random.seed(j)                                                       #we use 20 random seeds for generating the 20 different types of data\n",
        "    x=generate_x(1000,7)                                                       #creating the matrix of i rows and 7 coloumns\n",
        "    k=1\n",
        "    e=k*np.random.normal(0,1,size=(x.shape[0],1))\n",
        "    w=np.random.normal(size=(x.shape[1]-1,1))\n",
        "    t=generate_t(x,w,w_0,e)\n",
        "    w=np.insert(w, 0, w_0, axis=0)                             \n",
        "    x_train=x[:int(3*1000/4)]                                                  #we are divding the data matrix in the ratio of 3:1,so that 3/4th part for testing and 1/4th for validation \n",
        "    t_train=t[:int(3*1000/4)]\n",
        "    std_t_train=t_train.std()\n",
        "    x_valid=x[int(3*1000/4):]\n",
        "    t_valid=t[int(3*1000/4):]\n",
        "    std_t_valid=t_valid.std()\n",
        "    w_ml=grad_descent(x_train,t_train,n,i,min_change)[0]                        #calculating the w_ml for the validation set\n",
        "    nrmse_train=grad_descent(x_train,t_train,n,i,min_change)[1]\n",
        "    train_2=np.append(train_2,nrmse_train)\n",
        "    y_valid=estimated_y(x_valid,w_ml)                                       #By using above w_ml we will calculate the y from which we calculate the nrmse \n",
        "    mse_valid=mse_cal(y_valid,t_valid)\n",
        "    nrmse_valid=np.sqrt(mse_valid)/std_t_valid\n",
        "    valid_2=np.append(valid_2,nrmse_valid)\n",
        "  train_1.append(train_2)\n",
        "  valid_1.append(valid_2)\n",
        "plt.figure(figsize=(15,5))\n",
        "plt.subplot(1,3,2)\n",
        "plt.title('Training_nrmse')                                                #we are plotting training nrmse with different number of samples \n",
        "plt.boxplot(train_1,showfliers=False)\n",
        "plt.xlabel([300,500,1000,2000,5000,7000])\n",
        "plt.subplot(1,3,3)\n",
        "plt.title('Validation_nrmse')                                              #we are plotting validation nrmse with different number of samples \n",
        "plt.boxplot(valid_1,showfliers=False)\n",
        "plt.xlabel([300,500,1000,2000,5000,7000])\n",
        "plt.show()"
      ]
    },
    {
      "cell_type": "markdown",
      "source": [
        "Observations : initially increases and after that nrmse didnt have much change with max_iter values after a certain limit"
      ],
      "metadata": {
        "id": "IogiDRBqNn_7"
      }
    },
    {
      "cell_type": "markdown",
      "metadata": {
        "id": "3KXZpdNPDYFo"
      },
      "source": [
        "In the following one we are going to find the breaking point for number of samples using psuedo inverse matrix method"
      ]
    },
    {
      "cell_type": "code",
      "execution_count": null,
      "metadata": {
        "colab": {
          "base_uri": "https://localhost:8080/",
          "height": 295
        },
        "id": "DirfAm9DWafK",
        "outputId": "713aab7d-8b34-431e-e398-a0d439156acb"
      },
      "outputs": [
        {
          "output_type": "execute_result",
          "data": {
            "text/plain": [
              "<function matplotlib.pyplot.show(*args, **kw)>"
            ]
          },
          "metadata": {},
          "execution_count": 162
        },
        {
          "output_type": "display_data",
          "data": {
            "text/plain": [
              "<Figure size 432x288 with 1 Axes>"
            ],
            "image/png": "[encoded data removed]"
          },
          "metadata": {
            "needs_background": "light"
          }
        }
      ],
      "source": [
        "samples=[1000,10000,100000,1000000,10000000,50000000] #array for number of samples in multiple experiments\n",
        "t_samples=[]\n",
        "for i in samples:\n",
        "  t=0\n",
        "  x=generate_x(i,9)\n",
        "  w_0=3\n",
        "  l=0.4\n",
        "  k=1\n",
        "  e=k*np.random.normal(0,1,size=(x.shape[0],1))\n",
        "  w=np.random.normal(size=(x.shape[1]-1,1))                #initailising the varaibles\n",
        "  t=generate_t(x,w,w_0,e)\n",
        "  w=np.insert(w, 0, w_0, axis=0)\n",
        "  start = timer()                                           #start of timer\n",
        "  w_ml,y,mse=pseudo_inverse(x,t,l)\n",
        "  end = timer()                                             #end of the timer\n",
        "  t=end - start\n",
        "  t_samples.append(t)\n",
        "plt.plot(samples,t_samples)\n",
        "plt.show                                     # breaking point =5.5*10^7"
      ]
    },
    {
      "cell_type": "markdown",
      "metadata": {
        "id": "Y8mEseHPl2S9"
      },
      "source": [
        "Breaking point for number of samples = 5.5*10^7"
      ]
    },
    {
      "cell_type": "markdown",
      "metadata": {
        "id": "MQUrcjtJESGm"
      },
      "source": [
        "In the following one we are going to find the breaking point for number of features using psuedo inverse matrix method"
      ]
    },
    {
      "cell_type": "code",
      "execution_count": null,
      "metadata": {
        "id": "AQoE6oqGl_1e"
      },
      "outputs": [],
      "source": [
        "samples=[2,10 ,20, 200, 500,1000,2000,3000,5000,12000]      #array for number of samples in multiple experiments\n",
        "t_samples=[]\n",
        "for i in samples:\n",
        "  t=0\n",
        "  x=generate_x(1000,i)\n",
        "  w_0=3\n",
        "  l=0.4\n",
        "  k=1\n",
        "  e=k*np.random.normal(0,1,size=(x.shape[0],1))\n",
        "  w=np.random.normal(size=(x.shape[1]-1,1))                \n",
        "  t=generate_t(x,w,w_0,e)                                            #initailising the varaibles\n",
        "  w=np.insert(w, 0, w_0, axis=0)\n",
        "  start = timer()                                                     #start of timer\n",
        "  w_ml,y,mse=pseudo_inverse(x,t,l)\n",
        "  end = timer()                                                       #end of the timer\n",
        "  t=end - start\n",
        "  t_samples.append(t)\n",
        "plt.plot(samples,t_samples)\n",
        "plt.show"
      ]
    },
    {
      "cell_type": "code",
      "source": [],
      "metadata": {
        "id": "zMe48BHecMom"
      },
      "execution_count": null,
      "outputs": []
    },
    {
      "cell_type": "markdown",
      "metadata": {
        "id": "c3bNnHVbuazg"
      },
      "source": [
        "Breaking point for number of features =12500"
      ]
    },
    {
      "cell_type": "markdown",
      "source": [
        "14). Write your overall learning points by doing the entire assignment\n",
        "- Implementation of the linear regression model from scratch.\n",
        "-How each and every parameter will affect the nrmse of the output \n",
        "- How easy is to use the box plots to represent data when we have a continous distribution \n",
        "-How to analyze the given data and draw the conclusions "
      ],
      "metadata": {
        "id": "NKph7y0RQyH2"
      }
    }
  ],
  "metadata": {
    "colab": {
      "provenance": []
    },
    "kernelspec": {
      "display_name": "Python 3",
      "name": "python3"
    },
    "language_info": {
      "name": "python"
    }
  },
  "nbformat": 4,
  "nbformat_minor": 0
}